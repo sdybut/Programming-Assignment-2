{
 "cells": [
  {
   "cell_type": "markdown",
   "id": "c66abc6d-7ed3-4ab2-8f48-f9d01c4f23bd",
   "metadata": {},
   "source": [
    "# NUMERICAL PYTHON (NUMPY)"
   ]
  },
  {
   "cell_type": "code",
   "execution_count": 37,
   "id": "881001bc-3049-42ca-8faf-0875d48151ef",
   "metadata": {},
   "outputs": [],
   "source": [
    "import numpy as np \n",
    "\n",
    "# import the NumPy library with the 'np'"
   ]
  },
  {
   "cell_type": "markdown",
   "id": "e716fa0f-74e1-4516-a231-9fff83196402",
   "metadata": {},
   "source": [
    "### Normalization Problem"
   ]
  },
  {
   "cell_type": "code",
   "execution_count": 38,
   "id": "2a98030d-a98e-4de4-9dcf-0a4f58f4af76",
   "metadata": {},
   "outputs": [
    {
     "name": "stdout",
     "output_type": "stream",
     "text": [
      "Original array X:\n",
      "[[0.1776342  0.57704216 0.23915709 0.96082686 0.73985412]\n",
      " [0.4339007  0.05191411 0.61247685 0.54095802 0.67134365]\n",
      " [0.12890651 0.06126694 0.18407051 0.31359245 0.80190885]\n",
      " [0.87789692 0.53974643 0.81134419 0.37634833 0.77633622]\n",
      " [0.53949434 0.75783353 0.42785424 0.65036754 0.46056141]]\n"
     ]
    }
   ],
   "source": [
    "X = np.random.rand (5, 5) # create a 5x5 array filled with random float numbers between 0 and 1\n",
    "print (\"Original array X:\") # label and print to indicate the original (unnormalized) array\n",
    "print (X) # print the contents of the array X"
   ]
  },
  {
   "cell_type": "code",
   "execution_count": 39,
   "id": "4bb6e4ba-451f-4ed5-babe-edef31447f57",
   "metadata": {},
   "outputs": [
    {
     "name": "stdout",
     "output_type": "stream",
     "text": [
      "\n",
      "Normalized array X:\n",
      "[[-1.27594555  0.26429953 -1.03869359  1.74429631  0.89215463]\n",
      " [-0.28769981 -1.76076253  0.40094704  0.1251475   0.6279563 ]\n",
      " [-1.46385513 -1.72469499 -1.25112509 -0.75164698  1.13145756]\n",
      " [ 1.42449191  0.12047526  1.16784325 -0.50964018  1.03284127]\n",
      " [ 0.11950311  0.96148898 -0.31101691  0.54706567 -0.18488756]]\n"
     ]
    }
   ],
   "source": [
    "X_normalized = (X - X.mean()) / X.std() # normalize X using the formula Z = (X - mean) / std\n",
    "print(\"\\nNormalized array X:\") # label and print to indicate that the contents are the Normalized Array\n",
    "print(X_normalized) # print the array"
   ]
  },
  {
   "cell_type": "code",
   "execution_count": 40,
   "id": "ec92a1f1-6af2-4cf3-94b3-f19ab7c4b262",
   "metadata": {},
   "outputs": [
    {
     "name": "stdout",
     "output_type": "stream",
     "text": [
      "\n",
      "Normalized array saved as 'X_normalized.npy'\n"
     ]
    }
   ],
   "source": [
    "np.save('X_normalized.npy', X_normalized) # save the normalized array with the file name X_normalized.npy\n",
    "print(\"\\nNormalized array saved as 'X_normalized.npy'\") # print to confirm that the file has been saved"
   ]
  },
  {
   "cell_type": "markdown",
   "id": "6c0f37b3-8bae-498c-b0d5-c24a8b007ebd",
   "metadata": {},
   "source": [
    "### Divisible by 3 Problem"
   ]
  },
  {
   "cell_type": "code",
   "execution_count": 45,
   "id": "7a976c0d-84c3-4e5f-8596-6691ee978e00",
   "metadata": {},
   "outputs": [
    {
     "name": "stdout",
     "output_type": "stream",
     "text": [
      "Array A (squares of first 100 integers):\n",
      "[[    1     4     9    16    25    36    49    64    81   100]\n",
      " [  121   144   169   196   225   256   289   324   361   400]\n",
      " [  441   484   529   576   625   676   729   784   841   900]\n",
      " [  961  1024  1089  1156  1225  1296  1369  1444  1521  1600]\n",
      " [ 1681  1764  1849  1936  2025  2116  2209  2304  2401  2500]\n",
      " [ 2601  2704  2809  2916  3025  3136  3249  3364  3481  3600]\n",
      " [ 3721  3844  3969  4096  4225  4356  4489  4624  4761  4900]\n",
      " [ 5041  5184  5329  5476  5625  5776  5929  6084  6241  6400]\n",
      " [ 6561  6724  6889  7056  7225  7396  7569  7744  7921  8100]\n",
      " [ 8281  8464  8649  8836  9025  9216  9409  9604  9801 10000]]\n"
     ]
    }
   ],
   "source": [
    "A = (np.arange(1, 101) ** 2).reshape(10, 10) # square each element then reshape the result into a 10x10 2D array which is a matrix\n",
    "print(\"Array A (squares of first 100 integers):\") # label and print the matrix\n",
    "print(A) # print the contents of the matrix"
   ]
  },
  {
   "cell_type": "code",
   "execution_count": 46,
   "id": "1683a22a-3484-46e4-a66a-dcda02ff54a0",
   "metadata": {},
   "outputs": [
    {
     "name": "stdout",
     "output_type": "stream",
     "text": [
      "\n",
      "Elements divisible by 3:\n",
      "[   9   36   81  144  225  324  441  576  729  900 1089 1296 1521 1764\n",
      " 2025 2304 2601 2916 3249 3600 3969 4356 4761 5184 5625 6084 6561 7056\n",
      " 7569 8100 8649 9216 9801]\n"
     ]
    }
   ],
   "source": [
    "div_by_3 = A[A % 3 == 0] # find all elements in the matrix that are divisible by 3\n",
    "print(\"\\nElements divisible by 3:\") # label and print to indicate the elements that are divisible by 3\n",
    "print(div_by_3) # print all the values that are divisible by 3"
   ]
  },
  {
   "cell_type": "code",
   "execution_count": 47,
   "id": "dd0a664f-7e09-4db6-8ba6-040740bf2cd9",
   "metadata": {},
   "outputs": [
    {
     "name": "stdout",
     "output_type": "stream",
     "text": [
      "\n",
      "Divisible by 3 elements saved as 'div_by_3.npy'\n"
     ]
    }
   ],
   "source": [
    "np.save('div_by_3.npy', div_by_3) # save the values that are divisible by 3 with the file name div_by_3.npy\n",
    "print(\"\\nDivisible by 3 elements saved as 'div_by_3.npy'\") # print to confirm that the file has been saved"
   ]
  }
 ],
 "metadata": {
  "kernelspec": {
   "display_name": "Python [conda env:base] *",
   "language": "python",
   "name": "conda-base-py"
  },
  "language_info": {
   "codemirror_mode": {
    "name": "ipython",
    "version": 3
   },
   "file_extension": ".py",
   "mimetype": "text/x-python",
   "name": "python",
   "nbconvert_exporter": "python",
   "pygments_lexer": "ipython3",
   "version": "3.13.5"
  }
 },
 "nbformat": 4,
 "nbformat_minor": 5
}
